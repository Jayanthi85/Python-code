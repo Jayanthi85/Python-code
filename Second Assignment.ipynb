{
 "cells": [
  {
   "cell_type": "markdown",
   "id": "caf9a6e6-e185-4c35-98d3-cf65142483e2",
   "metadata": {},
   "source": [
    "1. Write a Python program to find those numbers which are divisible by 7 and multiple of 5, between 1500 and 2700 (both included)."
   ]
  },
  {
   "cell_type": "code",
   "execution_count": 1,
   "id": "27d4a103-29be-48df-8286-fb095d4e3f29",
   "metadata": {},
   "outputs": [
    {
     "name": "stdout",
     "output_type": "stream",
     "text": [
      "1505,1540,1575,1610,1645,1680,1715,1750,1785,1820,1855,1890,1925,1960,1995,2030,2065,2100,2135,2170,2205,2240,2275,2310,2345,2380,2415,2450,2485,2520,2555,2590,2625,2660,2695,"
     ]
    }
   ],
   "source": [
    "for x in range (1500,2700):\n",
    "    if (x%7==0 and x%5==0):\n",
    "        print(x, end=',')"
   ]
  },
  {
   "cell_type": "markdown",
   "id": "3e527e4a-6db6-431c-940e-db3ec3550a33",
   "metadata": {},
   "source": [
    "2. Write a Python program to construct the following pattern, using a nested for loop."
   ]
  },
  {
   "cell_type": "code",
   "execution_count": 2,
   "id": "e124613a-48a1-4886-9f72-bc2f1837fb68",
   "metadata": {},
   "outputs": [
    {
     "name": "stdout",
     "output_type": "stream",
     "text": [
      "* \n",
      "* * \n",
      "* * * \n",
      "* * * * \n",
      "* * * * * \n",
      "* * * * \n",
      "* * * \n",
      "* * \n",
      "* \n"
     ]
    }
   ],
   "source": [
    "for i in range(1,6):\n",
    "    for j in range(i):\n",
    "        print('*','',end='')\n",
    "    print()\n",
    "for i in range(4,0,-1):\n",
    "    for j in range(i):\n",
    "        print('*','',end='')\n",
    "    print()"
   ]
  },
  {
   "cell_type": "markdown",
   "id": "5be289b6-edf9-48cf-9d61-e03ca749c14d",
   "metadata": {},
   "source": [
    "3. Write a Python program to count the number of even and odd numbers from a series of numbers."
   ]
  },
  {
   "cell_type": "code",
   "execution_count": 3,
   "id": "392829f3-f71c-4111-8fe4-5c342053dd6a",
   "metadata": {},
   "outputs": [
    {
     "name": "stdout",
     "output_type": "stream",
     "text": [
      "Number of even numbers: 49\n",
      "Number of odd numbers: 50\n"
     ]
    }
   ],
   "source": [
    "Evennumber=0\n",
    "Oddnumber=0\n",
    "for i in range(1,100):\n",
    "    if i%2==0:\n",
    "        Evennumber += 1\n",
    "    else:\n",
    "        Oddnumber += 1\n",
    "print(\"Number of even numbers:\",Evennumber)\n",
    "print(\"Number of odd numbers:\",Oddnumber)    \n"
   ]
  },
  {
   "cell_type": "markdown",
   "id": "d26596b8-e883-48fc-830a-c92fdb63cb68",
   "metadata": {},
   "source": [
    "4. Write a Python program to find numbers between 100 and 400 (both included) where each digit of a number is an even number. The numbers obtained should be printed in a comma-separated sequence."
   ]
  },
  {
   "cell_type": "code",
   "execution_count": 4,
   "id": "ca4cc4b8-c5e6-48d9-a00c-e476e578d0f8",
   "metadata": {},
   "outputs": [
    {
     "name": "stdout",
     "output_type": "stream",
     "text": [
      "200,202,204,206,208,220,222,224,226,228,240,242,244,246,248,260,262,264,266,268,280,282,284,286,288,400\n"
     ]
    }
   ],
   "source": [
    "Evendigitnumbers = []\n",
    "for i in range(100,401):\n",
    "    a=str(i)\n",
    "    if (int(a[0])%2==0) and (int(a[1])%2==0) and (int(a[2])%2==0):\n",
    "        Evendigitnumbers.append(a)\n",
    "#print(\"Even digit numbers:\",Evendigitnumbers)\n",
    "print(\",\".join(Evendigitnumbers))\n",
    "        "
   ]
  },
  {
   "cell_type": "markdown",
   "id": "c98039c6-0660-4aa0-aace-785321559af3",
   "metadata": {},
   "source": [
    "5. Write a Python program to calculate a dog's age in dog's years.\n",
    "   Note: For the first two years, a dog year is equal to 10.5 human years. After that, each dog year equals 4 human years."
   ]
  },
  {
   "cell_type": "code",
   "execution_count": 7,
   "id": "d0944f9c-473f-4b32-9041-7830a5347b5c",
   "metadata": {},
   "outputs": [
    {
     "name": "stdin",
     "output_type": "stream",
     "text": [
      "Enter a Dog's age in human year :  7\n"
     ]
    },
    {
     "name": "stdout",
     "output_type": "stream",
     "text": [
      "Age of a dog in human years : 41\n"
     ]
    }
   ],
   "source": [
    "a = int(input(\"Enter a Dog's age in human year : \"))\n",
    "if a<=0:\n",
    "    print(\"Invalid entry\")\n",
    "    exit()\n",
    "elif a<=2:\n",
    "    b = a*10.5\n",
    "else:\n",
    "    b = (21+(a-2)*4)\n",
    "print(\"Age of a dog in human years :\" , b)\n",
    "\n",
    "    "
   ]
  },
  {
   "cell_type": "markdown",
   "id": "45a14a88-935e-4888-b6a2-9201e4d7ffac",
   "metadata": {},
   "source": [
    "6. Write a Python function to find the Max of three numbers."
   ]
  },
  {
   "cell_type": "code",
   "execution_count": 13,
   "id": "ae2eca19-ff8d-47c4-834d-c2e3e6de78a7",
   "metadata": {},
   "outputs": [
    {
     "name": "stdout",
     "output_type": "stream",
     "text": [
      "Maximum of three numbers  (3, 6, -5) is 6\n"
     ]
    }
   ],
   "source": [
    "Numbers = (3,6,-5)\n",
    "c=max(Numbers)\n",
    "print(\"Maximum of three numbers \",Numbers, \"is\" , c)"
   ]
  },
  {
   "cell_type": "markdown",
   "id": "c0324ac2-da5a-45e2-a803-ca0cbcf150d6",
   "metadata": {},
   "source": [
    "7. Write a Python function that takes a number as a parameter and check the number is prime or not."
   ]
  },
  {
   "cell_type": "code",
   "execution_count": 14,
   "id": "c34f2d62-7249-47d2-8348-0b2cd8bd8093",
   "metadata": {},
   "outputs": [
    {
     "name": "stdin",
     "output_type": "stream",
     "text": [
      "Enter a number: 17\n"
     ]
    },
    {
     "name": "stdout",
     "output_type": "stream",
     "text": [
      "True\n"
     ]
    }
   ],
   "source": [
    "s = int(input(\"Enter a number:\"))\n",
    "def primenum(x):\n",
    "    if x <= 1:\n",
    "        return False\n",
    "    for i in range(2,x):\n",
    "        if x % i == 0:\n",
    "            return False\n",
    "    return True\n",
    "print(primenum(s))\n"
   ]
  },
  {
   "cell_type": "markdown",
   "id": "0c2327e5-3585-4a24-a2f6-aba01bf790c7",
   "metadata": {},
   "source": [
    "8. Write a Python function that accepts a string and calculate the number of upper case letters and lower case letters. Go to the editor"
   ]
  },
  {
   "cell_type": "code",
   "execution_count": 17,
   "id": "4281664b-8f64-4adc-b22c-ffe8fea6f08b",
   "metadata": {},
   "outputs": [
    {
     "name": "stdin",
     "output_type": "stream",
     "text": [
      "Enter a sentence: Hi All \n"
     ]
    },
    {
     "name": "stdout",
     "output_type": "stream",
     "text": [
      "Number of Uppercase letters: 2\n",
      "Number of Lowercase letters: 3\n"
     ]
    }
   ],
   "source": [
    "stringname = input(\"Enter a sentence:\")\n",
    "\n",
    "def stringcount(x):\n",
    "    Uppercount = 0\n",
    "    Lowercount = 0\n",
    "    for i in x:\n",
    "        if (i.islower()):\n",
    "            Lowercount +=1\n",
    "        elif (i.isupper()):\n",
    "            Uppercount +=1\n",
    "    print(\"Number of Uppercase letters:\",Uppercount)\n",
    "    print(\"Number of Lowercase letters:\",Lowercount)\n",
    "        \n",
    "    return\n",
    "stringcount(stringname)\n",
    "       "
   ]
  },
  {
   "cell_type": "markdown",
   "id": "6f04bcb6-8206-4938-98bd-ed0858848ebd",
   "metadata": {},
   "source": [
    "9. Write a Python program to reverse a string."
   ]
  },
  {
   "cell_type": "code",
   "execution_count": 29,
   "id": "dccd2510-ddeb-4be3-b1e3-993950e6982d",
   "metadata": {},
   "outputs": [
    {
     "name": "stdout",
     "output_type": "stream",
     "text": [
      "zetpecnI\n"
     ]
    }
   ],
   "source": [
    "string1= \"Inceptez\"[::-1]\n",
    "print(string1)\n"
   ]
  },
  {
   "cell_type": "markdown",
   "id": "b7d82295-9c65-45f8-b15e-c6c58a86a7b1",
   "metadata": {},
   "source": [
    "10. Write a Python program to find the greatest common divisor (gcd) of two integers."
   ]
  },
  {
   "cell_type": "code",
   "execution_count": null,
   "id": "6ddbdb51-9ed7-45a7-9868-4aa4a565bb39",
   "metadata": {},
   "outputs": [],
   "source": []
  }
 ],
 "metadata": {
  "kernelspec": {
   "display_name": "Python 3 (ipykernel)",
   "language": "python",
   "name": "python3"
  },
  "language_info": {
   "codemirror_mode": {
    "name": "ipython",
    "version": 3
   },
   "file_extension": ".py",
   "mimetype": "text/x-python",
   "name": "python",
   "nbconvert_exporter": "python",
   "pygments_lexer": "ipython3",
   "version": "3.11.5"
  }
 },
 "nbformat": 4,
 "nbformat_minor": 5
}
